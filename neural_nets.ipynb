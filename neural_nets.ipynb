{
  "nbformat": 4,
  "nbformat_minor": 0,
  "metadata": {
    "colab": {
      "provenance": []
    },
    "kernelspec": {
      "name": "python3",
      "display_name": "Python 3"
    },
    "language_info": {
      "name": "python"
    }
  },
  "cells": [
    {
      "cell_type": "code",
      "execution_count": null,
      "metadata": {
        "id": "0A2JbnNwlWy3"
      },
      "outputs": [],
      "source": [
        "f = open('drive/MyDrive/en_wiki_small.txt', encoding='utf-8')\n",
        "raw = f.read()"
      ]
    },
    {
      "cell_type": "code",
      "source": [
        "import nltk\n",
        "nltk.download('punkt')\n",
        "nltk.download('stopwords')"
      ],
      "metadata": {
        "colab": {
          "base_uri": "https://localhost:8080/"
        },
        "id": "oG_i5wGqa9Ze",
        "outputId": "0993f589-34ee-4240-8c16-9ef5b5df16d5"
      },
      "execution_count": null,
      "outputs": [
        {
          "output_type": "stream",
          "name": "stderr",
          "text": [
            "[nltk_data] Downloading package punkt to /root/nltk_data...\n",
            "[nltk_data]   Unzipping tokenizers/punkt.zip.\n",
            "[nltk_data] Downloading package stopwords to /root/nltk_data...\n",
            "[nltk_data]   Unzipping corpora/stopwords.zip.\n"
          ]
        },
        {
          "output_type": "execute_result",
          "data": {
            "text/plain": [
              "True"
            ]
          },
          "metadata": {},
          "execution_count": 3
        }
      ]
    },
    {
      "cell_type": "code",
      "source": [
        "import gensim\n",
        "import os"
      ],
      "metadata": {
        "id": "tBtfhrnXaRDb"
      },
      "execution_count": null,
      "outputs": []
    },
    {
      "cell_type": "code",
      "source": [
        "import re\n",
        "from nltk import sent_tokenize\n",
        "from nltk import word_tokenize\n",
        "from gensim.utils import simple_preprocess\n",
        "from nltk.corpus import stopwords\n",
        "\n",
        "story=[]\n",
        "sent_token = sent_tokenize(raw)\n",
        "Tokenizer = word_tokenize(raw)\n",
        "vocab_size = len(set(Tokenizer))\n",
        "print(\"Vocab Size : \", vocab_size)\n",
        "\n",
        "\n",
        "sent_corpus = []\n",
        "for sent in sent_token:\n",
        "    sent = sent.lower()\n",
        "    sent = re.sub(r'[^\\w\\s]', '', sent)\n",
        "    sent = re.sub(r'[\\n\\[\\]\\(\\)]', '', sent)\n",
        "    sent = re.sub(r'\\b\\w{1,2}\\b', '', sent)\n",
        "    sent = re.sub(r'(\\d+\\.\\d+|\\d+g|\\d+)', '', sent)\n",
        "    # sent = word_tokenize(sent)\n",
        "    # sent = [words for words in sent if words not in stopwords.words('english')]\n",
        "    sent_corpus.append(sent)\n",
        "\n",
        "# print(story)\n"
      ],
      "metadata": {
        "colab": {
          "base_uri": "https://localhost:8080/"
        },
        "id": "lIjog2q4aacf",
        "outputId": "4a044043-2a52-4718-80bd-e4ada9f70c8c"
      },
      "execution_count": null,
      "outputs": [
        {
          "output_type": "stream",
          "name": "stdout",
          "text": [
            "Vocab Size :  148268\n"
          ]
        }
      ]
    },
    {
      "cell_type": "code",
      "source": [
        "vocab_size = 148268"
      ],
      "metadata": {
        "colab": {
          "base_uri": "https://localhost:8080/"
        },
        "id": "HF1lPJfeyrKf",
        "outputId": "aa7c3406-73a8-48c8-8293-eb4d87e8e6a7"
      },
      "execution_count": null,
      "outputs": [
        {
          "output_type": "stream",
          "name": "stdout",
          "text": [
            "the word atom was coined  ancient greek philosophers\n",
            "however these ideas were founded  philosophical and theological reasoning rather than evidence and experimentation\n",
            "  result their views  what atoms look like and how they behave were incorrect\n",
            "they also could not convince everybody  atomism was but one   number  competing theories  the nature  matter\n",
            "16\n"
          ]
        }
      ]
    },
    {
      "cell_type": "code",
      "source": [
        "from keras.preprocessing.text import one_hot\n",
        "\n",
        "vocab_size = 148268\n",
        "onehot_repr = [one_hot(words, vocab_size) for words in sent]\n",
        "print(onehot_repr)"
      ],
      "metadata": {
        "colab": {
          "base_uri": "https://localhost:8080/"
        },
        "id": "Za_Bz6qH03MT",
        "outputId": "9f86536d-dd61-4b2c-cb1e-ae3a04d2d240"
      },
      "execution_count": null,
      "outputs": [
        {
          "output_type": "stream",
          "name": "stdout",
          "text": [
            "[[105556], [655], [123297], [], [79079], [56587], [79079], [58604], [125606], [128783], [130242], [37475], [130242], [], [], [123297], [130242], [128783], [58604], [56587], [], [37475], [123297], [58604], [147208], [125606], [74881], [128783], [138143], [123297], [], [], [130242], [128783], [105556], [29283], [7817], [105556], [], [55291], [125606], [655], [138143], [], [655], [123297], [138143], [138143], [29283], [138143], [74644], [7817], [], [], [], [7817], [105556], [29283], [58604], [58604], [], [7817], [74881], [128783], [106720], [29283], [106720], [123297], [7817], [], [130242], [58604], [147208], [123297], [29283], [105556], [], [655], [130242], [106720], [29283], [138143], [74644], [], [7817], [74881], [82208], [82208]]\n"
          ]
        }
      ]
    },
    {
      "cell_type": "code",
      "source": [
        "from keras.preprocessing.text import one_hot\n",
        "\n",
        "# one_hot_vec = []\n",
        "# for lis in story[:1]:\n",
        "#   for words in lis:\n",
        "#     encodings = one_hot(words, vocab_size)\n",
        "#     one_hot_vec.append(encodings)\n",
        "\n",
        "# print(one_hot_vec)\n"
      ],
      "metadata": {
        "id": "6L71KqJ25AjM"
      },
      "execution_count": null,
      "outputs": []
    },
    {
      "cell_type": "code",
      "source": [],
      "metadata": {
        "id": "AT0UC0WO8TWK"
      },
      "execution_count": null,
      "outputs": []
    }
  ]
}